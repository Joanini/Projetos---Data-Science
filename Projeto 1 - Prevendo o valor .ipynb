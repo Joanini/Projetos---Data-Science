{
 "cells": [
  {
   "cell_type": "code",
   "execution_count": 2,
   "metadata": {},
   "outputs": [],
   "source": [
    "# Projeto 1 : Prever o valor de vendas"
   ]
  },
  {
   "cell_type": "code",
   "execution_count": 3,
   "metadata": {},
   "outputs": [],
   "source": [
    "# Importando conjunto de dados\n",
    "import matplotlib.pyplot as plt\n",
    "import pandas as pd\n",
    "import numpy as np\n",
    "%matplotlib inline"
   ]
  },
  {
   "cell_type": "code",
   "execution_count": 9,
   "metadata": {},
   "outputs": [],
   "source": [
    "# conjunto de dados : \n",
    "\n",
    "qtd = [[100], [102], [93], [43], [200], [250], [105], [103], [185], [154], [163]]\n",
    "\n",
    "# R$ em vendas\n",
    "\n",
    "valor = [[1552], [1600], [1258], [800], [3000], [3358], [1680], [1602], [2580], [2058], [2174]]"
   ]
  },
  {
   "cell_type": "code",
   "execution_count": 10,
   "metadata": {},
   "outputs": [
    {
     "data": {
      "image/png": "[encoded data removed]",
      "text/plain": [
       "<Figure size 432x288 with 1 Axes>"
      ]
     },
     "metadata": {},
     "output_type": "display_data"
    }
   ],
   "source": [
    "# Visualizando em gráfico para vermos a relação dos dados\n",
    "\n",
    "plt.figure()\n",
    "plt.xlabel('Quantidade de vendas')\n",
    "plt.ylabel('Valor em R$')\n",
    "plt.plot(qtd, valor, 'k.')\n",
    "plt.grid(True)\n",
    "plt.show()"
   ]
  },
  {
   "cell_type": "code",
   "execution_count": null,
   "metadata": {},
   "outputs": [],
   "source": [
    "# Como podemos observar no gráfico a uma forte em relação positiva , resumindo quanto mais se vende mais se fatura"
   ]
  },
  {
   "cell_type": "code",
   "execution_count": 11,
   "metadata": {},
   "outputs": [],
   "source": [
    "# Vamos modelar a regressão para prever os valores futuros\n",
    "from sklearn.linear_model import LinearRegression"
   ]
  },
  {
   "cell_type": "code",
   "execution_count": 12,
   "metadata": {},
   "outputs": [],
   "source": [
    "# Preparando os dados de treino e teste\n",
    "\n",
    "# X vai ser a quantidade \n",
    "\n",
    "X = qtd\n",
    "\n",
    "# Y vai ser o valor faturado\n",
    "Y = valor"
   ]
  },
  {
   "cell_type": "code",
   "execution_count": 13,
   "metadata": {},
   "outputs": [],
   "source": [
    "# Criando o modelo de regressão\n",
    "modelo = LinearRegression()"
   ]
  },
  {
   "cell_type": "code",
   "execution_count": 14,
   "metadata": {},
   "outputs": [
    {
     "data": {
      "text/plain": [
       "sklearn.linear_model.base.LinearRegression"
      ]
     },
     "execution_count": 14,
     "metadata": {},
     "output_type": "execute_result"
    }
   ],
   "source": [
    "type(modelo)"
   ]
  },
  {
   "cell_type": "code",
   "execution_count": 15,
   "metadata": {},
   "outputs": [
    {
     "data": {
      "text/plain": [
       "LinearRegression(copy_X=True, fit_intercept=True, n_jobs=1, normalize=False)"
      ]
     },
     "execution_count": 15,
     "metadata": {},
     "output_type": "execute_result"
    }
   ],
   "source": [
    "# Treinando o modelo\n",
    "modelo.fit(X,Y)"
   ]
  },
  {
   "cell_type": "code",
   "execution_count": 17,
   "metadata": {},
   "outputs": [
    {
     "name": "stdout",
     "output_type": "stream",
     "text": [
      "Quantidade de vendas 230 produtos deve ter um faturamento de : R$3155.20\n"
     ]
    }
   ],
   "source": [
    "# Suponha que queira se saber o faturamento com quantidade de vendas de 230 produtos\n",
    "print('Quantidade de vendas 230 produtos deve ter um faturamento de : R$%.2f' % modelo.predict([230][0]))"
   ]
  },
  {
   "cell_type": "code",
   "execution_count": 20,
   "metadata": {},
   "outputs": [
    {
     "name": "stdout",
     "output_type": "stream",
     "text": [
      "Coeficientes : \n",
      " [[12.64074864]]\n",
      "MSE : 12373.21\n",
      "Score de variação : 0.98\n"
     ]
    }
   ],
   "source": [
    "# verificando os coeficientes ,taxa de erro e Score da variação\n",
    "\n",
    "# Coeficientes\n",
    "print('Coeficientes : \\n', modelo.coef_)\n",
    "\n",
    "# MSE taxa de erro\n",
    "print('MSE : %.2f' % np.mean((modelo.predict(X) - Y)**2))\n",
    "\n",
    "# Score de variação onde 1 representa a predição perfeita\n",
    "print('Score de variação : %.2f' % modelo.score(X, Y))"
   ]
  },
  {
   "cell_type": "code",
   "execution_count": 21,
   "metadata": {},
   "outputs": [
    {
     "data": {
      "image/png": "[encoded data removed]",
      "text/plain": [
       "<Figure size 432x288 with 1 Axes>"
      ]
     },
     "metadata": {},
     "output_type": "display_data"
    }
   ],
   "source": [
    "# Criando um Scatter Plot representando a regressõ linear\n",
    "plt.scatter(X, Y, color = 'black')\n",
    "plt.plot(X, modelo.predict(X), color = 'blue', linewidth = 3)\n",
    "plt.xlabel('X')\n",
    "plt.ylabel('Y')\n",
    "plt.xticks(())\n",
    "plt.yticks(())\n",
    "plt.show()"
   ]
  }
 ],
 "metadata": {
  "kernelspec": {
   "display_name": "Python 3",
   "language": "python",
   "name": "python3"
  },
  "language_info": {
   "codemirror_mode": {
    "name": "ipython",
    "version": 3
   },
   "file_extension": ".py",
   "mimetype": "text/x-python",
   "name": "python",
   "nbconvert_exporter": "python",
   "pygments_lexer": "ipython3",
   "version": "3.6.4"
  }
 },
 "nbformat": 4,
 "nbformat_minor": 2
}
